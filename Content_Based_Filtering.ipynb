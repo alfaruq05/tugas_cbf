{
  "cells": [
    {
      "cell_type": "markdown",
      "metadata": {
        "id": "4Jjqb6AZ7wIM"
      },
      "source": [
        "# Content Based Filtering : Kampus Merdeka"
      ]
    },
    {
      "cell_type": "code",
      "execution_count": 1,
      "metadata": {
        "id": "EPoIczVJ7wIR",
        "outputId": "790e7ae7-c7bb-4064-b9f3-25f2356ef8a7",
        "colab": {
          "base_uri": "https://localhost:8080/",
          "height": 206
        }
      },
      "outputs": [
        {
          "output_type": "execute_result",
          "data": {
            "text/plain": [
              "                                      company  \\\n",
              "0               Alfaruq Marsalsani Supriyatno   \n",
              "1                  PT Neosia Pratama Indonusa   \n",
              "2                  PT Neosia Pratama Indonusa   \n",
              "3                   PT Mitra Semeru Indonesia   \n",
              "4  Perkumpulan Sosial Ekonomi Akselerator Lab   \n",
              "\n",
              "                                             address  \\\n",
              "0             Ngaliyan, Semarang, Jawa Tengah, 50187   \n",
              "1  Sona Topas Tower, lt. 5A/526. Jl. Jendral Sudi...   \n",
              "2  Sona Topas Tower, lt. 5A/526. Jl. Jendral Sudi...   \n",
              "3  Jl. Mampang Prapatan Raya no 84A, Tegal Parang...   \n",
              "4  Kawasan Ekonomi Khusus Singhasari, Raya Klampo...   \n",
              "\n",
              "                                         description  \n",
              "0  Programming Algorithm, Programming Language, D...  \n",
              "1  Disciplined BIM Modeling Structure BIM Modelin...  \n",
              "2  Disciplined BIM Modeling Structure BIM Modelin...  \n",
              "3  03.Branding on Logo, Tagline, Brand Value & Br...  \n",
              "4  AWS Cloud Computing Concept of Digital Transfo...  "
            ],
            "text/html": [
              "\n",
              "  <div id=\"df-a989c00d-d1ea-4e2a-bce9-cd9085833ff7\">\n",
              "    <div class=\"colab-df-container\">\n",
              "      <div>\n",
              "<style scoped>\n",
              "    .dataframe tbody tr th:only-of-type {\n",
              "        vertical-align: middle;\n",
              "    }\n",
              "\n",
              "    .dataframe tbody tr th {\n",
              "        vertical-align: top;\n",
              "    }\n",
              "\n",
              "    .dataframe thead th {\n",
              "        text-align: right;\n",
              "    }\n",
              "</style>\n",
              "<table border=\"1\" class=\"dataframe\">\n",
              "  <thead>\n",
              "    <tr style=\"text-align: right;\">\n",
              "      <th></th>\n",
              "      <th>company</th>\n",
              "      <th>address</th>\n",
              "      <th>description</th>\n",
              "    </tr>\n",
              "  </thead>\n",
              "  <tbody>\n",
              "    <tr>\n",
              "      <th>0</th>\n",
              "      <td>Alfaruq Marsalsani Supriyatno</td>\n",
              "      <td>Ngaliyan, Semarang, Jawa Tengah, 50187</td>\n",
              "      <td>Programming Algorithm, Programming Language, D...</td>\n",
              "    </tr>\n",
              "    <tr>\n",
              "      <th>1</th>\n",
              "      <td>PT Neosia Pratama Indonusa</td>\n",
              "      <td>Sona Topas Tower, lt. 5A/526. Jl. Jendral Sudi...</td>\n",
              "      <td>Disciplined BIM Modeling Structure BIM Modelin...</td>\n",
              "    </tr>\n",
              "    <tr>\n",
              "      <th>2</th>\n",
              "      <td>PT Neosia Pratama Indonusa</td>\n",
              "      <td>Sona Topas Tower, lt. 5A/526. Jl. Jendral Sudi...</td>\n",
              "      <td>Disciplined BIM Modeling Structure BIM Modelin...</td>\n",
              "    </tr>\n",
              "    <tr>\n",
              "      <th>3</th>\n",
              "      <td>PT Mitra Semeru Indonesia</td>\n",
              "      <td>Jl. Mampang Prapatan Raya no 84A, Tegal Parang...</td>\n",
              "      <td>03.Branding on Logo, Tagline, Brand Value &amp; Br...</td>\n",
              "    </tr>\n",
              "    <tr>\n",
              "      <th>4</th>\n",
              "      <td>Perkumpulan Sosial Ekonomi Akselerator Lab</td>\n",
              "      <td>Kawasan Ekonomi Khusus Singhasari, Raya Klampo...</td>\n",
              "      <td>AWS Cloud Computing Concept of Digital Transfo...</td>\n",
              "    </tr>\n",
              "  </tbody>\n",
              "</table>\n",
              "</div>\n",
              "      <button class=\"colab-df-convert\" onclick=\"convertToInteractive('df-a989c00d-d1ea-4e2a-bce9-cd9085833ff7')\"\n",
              "              title=\"Convert this dataframe to an interactive table.\"\n",
              "              style=\"display:none;\">\n",
              "        \n",
              "  <svg xmlns=\"http://www.w3.org/2000/svg\" height=\"24px\"viewBox=\"0 0 24 24\"\n",
              "       width=\"24px\">\n",
              "    <path d=\"M0 0h24v24H0V0z\" fill=\"none\"/>\n",
              "    <path d=\"M18.56 5.44l.94 2.06.94-2.06 2.06-.94-2.06-.94-.94-2.06-.94 2.06-2.06.94zm-11 1L8.5 8.5l.94-2.06 2.06-.94-2.06-.94L8.5 2.5l-.94 2.06-2.06.94zm10 10l.94 2.06.94-2.06 2.06-.94-2.06-.94-.94-2.06-.94 2.06-2.06.94z\"/><path d=\"M17.41 7.96l-1.37-1.37c-.4-.4-.92-.59-1.43-.59-.52 0-1.04.2-1.43.59L10.3 9.45l-7.72 7.72c-.78.78-.78 2.05 0 2.83L4 21.41c.39.39.9.59 1.41.59.51 0 1.02-.2 1.41-.59l7.78-7.78 2.81-2.81c.8-.78.8-2.07 0-2.86zM5.41 20L4 18.59l7.72-7.72 1.47 1.35L5.41 20z\"/>\n",
              "  </svg>\n",
              "      </button>\n",
              "      \n",
              "  <style>\n",
              "    .colab-df-container {\n",
              "      display:flex;\n",
              "      flex-wrap:wrap;\n",
              "      gap: 12px;\n",
              "    }\n",
              "\n",
              "    .colab-df-convert {\n",
              "      background-color: #E8F0FE;\n",
              "      border: none;\n",
              "      border-radius: 50%;\n",
              "      cursor: pointer;\n",
              "      display: none;\n",
              "      fill: #1967D2;\n",
              "      height: 32px;\n",
              "      padding: 0 0 0 0;\n",
              "      width: 32px;\n",
              "    }\n",
              "\n",
              "    .colab-df-convert:hover {\n",
              "      background-color: #E2EBFA;\n",
              "      box-shadow: 0px 1px 2px rgba(60, 64, 67, 0.3), 0px 1px 3px 1px rgba(60, 64, 67, 0.15);\n",
              "      fill: #174EA6;\n",
              "    }\n",
              "\n",
              "    [theme=dark] .colab-df-convert {\n",
              "      background-color: #3B4455;\n",
              "      fill: #D2E3FC;\n",
              "    }\n",
              "\n",
              "    [theme=dark] .colab-df-convert:hover {\n",
              "      background-color: #434B5C;\n",
              "      box-shadow: 0px 1px 3px 1px rgba(0, 0, 0, 0.15);\n",
              "      filter: drop-shadow(0px 1px 2px rgba(0, 0, 0, 0.3));\n",
              "      fill: #FFFFFF;\n",
              "    }\n",
              "  </style>\n",
              "\n",
              "      <script>\n",
              "        const buttonEl =\n",
              "          document.querySelector('#df-a989c00d-d1ea-4e2a-bce9-cd9085833ff7 button.colab-df-convert');\n",
              "        buttonEl.style.display =\n",
              "          google.colab.kernel.accessAllowed ? 'block' : 'none';\n",
              "\n",
              "        async function convertToInteractive(key) {\n",
              "          const element = document.querySelector('#df-a989c00d-d1ea-4e2a-bce9-cd9085833ff7');\n",
              "          const dataTable =\n",
              "            await google.colab.kernel.invokeFunction('convertToInteractive',\n",
              "                                                     [key], {});\n",
              "          if (!dataTable) return;\n",
              "\n",
              "          const docLinkHtml = 'Like what you see? Visit the ' +\n",
              "            '<a target=\"_blank\" href=https://colab.research.google.com/notebooks/data_table.ipynb>data table notebook</a>'\n",
              "            + ' to learn more about interactive tables.';\n",
              "          element.innerHTML = '';\n",
              "          dataTable['output_type'] = 'display_data';\n",
              "          await google.colab.output.renderOutput(dataTable, element);\n",
              "          const docLink = document.createElement('div');\n",
              "          docLink.innerHTML = docLinkHtml;\n",
              "          element.appendChild(docLink);\n",
              "        }\n",
              "      </script>\n",
              "    </div>\n",
              "  </div>\n",
              "  "
            ]
          },
          "metadata": {},
          "execution_count": 1
        }
      ],
      "source": [
        "import pandas as pd\n",
        "import numpy as np\n",
        "from sklearn.metrics.pairwise import cosine_similarity\n",
        "from sklearn.feature_extraction.text import TfidfVectorizer\n",
        "from nltk.corpus import stopwords\n",
        "import re\n",
        "import random\n",
        "\n",
        "df = pd.read_csv(\"dataset_tugas.csv\")\n",
        "df.head()"
      ]
    },
    {
      "cell_type": "markdown",
      "metadata": {
        "id": "PBJm1kWu7wIU"
      },
      "source": [
        "## **1. Ikhtisar**"
      ]
    },
    {
      "cell_type": "code",
      "execution_count": 2,
      "metadata": {
        "id": "J4FiH4Il7wIU",
        "outputId": "bf01962e-2ba9-44dd-b48a-2e3c7ab81dee",
        "colab": {
          "base_uri": "https://localhost:8080/",
          "height": 175
        }
      },
      "outputs": [
        {
          "output_type": "execute_result",
          "data": {
            "text/plain": [
              "                                      company  \\\n",
              "count                                      20   \n",
              "unique                                     15   \n",
              "top     PT. IlmuKomputerCom Braindevs Sistema   \n",
              "freq                                        3   \n",
              "\n",
              "                                                  address  \\\n",
              "count                                                  20   \n",
              "unique                                                 15   \n",
              "top     Menara Bidakara 1  Lantai 2, Jl. Gatot Subroto...   \n",
              "freq                                                    3   \n",
              "\n",
              "                                              description  \n",
              "count                                                  20  \n",
              "unique                                                 19  \n",
              "top     Disciplined BIM Modeling Structure BIM Modelin...  \n",
              "freq                                                    2  "
            ],
            "text/html": [
              "\n",
              "  <div id=\"df-038130db-e74b-4686-ab8f-f39ec6ccfee0\">\n",
              "    <div class=\"colab-df-container\">\n",
              "      <div>\n",
              "<style scoped>\n",
              "    .dataframe tbody tr th:only-of-type {\n",
              "        vertical-align: middle;\n",
              "    }\n",
              "\n",
              "    .dataframe tbody tr th {\n",
              "        vertical-align: top;\n",
              "    }\n",
              "\n",
              "    .dataframe thead th {\n",
              "        text-align: right;\n",
              "    }\n",
              "</style>\n",
              "<table border=\"1\" class=\"dataframe\">\n",
              "  <thead>\n",
              "    <tr style=\"text-align: right;\">\n",
              "      <th></th>\n",
              "      <th>company</th>\n",
              "      <th>address</th>\n",
              "      <th>description</th>\n",
              "    </tr>\n",
              "  </thead>\n",
              "  <tbody>\n",
              "    <tr>\n",
              "      <th>count</th>\n",
              "      <td>20</td>\n",
              "      <td>20</td>\n",
              "      <td>20</td>\n",
              "    </tr>\n",
              "    <tr>\n",
              "      <th>unique</th>\n",
              "      <td>15</td>\n",
              "      <td>15</td>\n",
              "      <td>19</td>\n",
              "    </tr>\n",
              "    <tr>\n",
              "      <th>top</th>\n",
              "      <td>PT. IlmuKomputerCom Braindevs Sistema</td>\n",
              "      <td>Menara Bidakara 1  Lantai 2, Jl. Gatot Subroto...</td>\n",
              "      <td>Disciplined BIM Modeling Structure BIM Modelin...</td>\n",
              "    </tr>\n",
              "    <tr>\n",
              "      <th>freq</th>\n",
              "      <td>3</td>\n",
              "      <td>3</td>\n",
              "      <td>2</td>\n",
              "    </tr>\n",
              "  </tbody>\n",
              "</table>\n",
              "</div>\n",
              "      <button class=\"colab-df-convert\" onclick=\"convertToInteractive('df-038130db-e74b-4686-ab8f-f39ec6ccfee0')\"\n",
              "              title=\"Convert this dataframe to an interactive table.\"\n",
              "              style=\"display:none;\">\n",
              "        \n",
              "  <svg xmlns=\"http://www.w3.org/2000/svg\" height=\"24px\"viewBox=\"0 0 24 24\"\n",
              "       width=\"24px\">\n",
              "    <path d=\"M0 0h24v24H0V0z\" fill=\"none\"/>\n",
              "    <path d=\"M18.56 5.44l.94 2.06.94-2.06 2.06-.94-2.06-.94-.94-2.06-.94 2.06-2.06.94zm-11 1L8.5 8.5l.94-2.06 2.06-.94-2.06-.94L8.5 2.5l-.94 2.06-2.06.94zm10 10l.94 2.06.94-2.06 2.06-.94-2.06-.94-.94-2.06-.94 2.06-2.06.94z\"/><path d=\"M17.41 7.96l-1.37-1.37c-.4-.4-.92-.59-1.43-.59-.52 0-1.04.2-1.43.59L10.3 9.45l-7.72 7.72c-.78.78-.78 2.05 0 2.83L4 21.41c.39.39.9.59 1.41.59.51 0 1.02-.2 1.41-.59l7.78-7.78 2.81-2.81c.8-.78.8-2.07 0-2.86zM5.41 20L4 18.59l7.72-7.72 1.47 1.35L5.41 20z\"/>\n",
              "  </svg>\n",
              "      </button>\n",
              "      \n",
              "  <style>\n",
              "    .colab-df-container {\n",
              "      display:flex;\n",
              "      flex-wrap:wrap;\n",
              "      gap: 12px;\n",
              "    }\n",
              "\n",
              "    .colab-df-convert {\n",
              "      background-color: #E8F0FE;\n",
              "      border: none;\n",
              "      border-radius: 50%;\n",
              "      cursor: pointer;\n",
              "      display: none;\n",
              "      fill: #1967D2;\n",
              "      height: 32px;\n",
              "      padding: 0 0 0 0;\n",
              "      width: 32px;\n",
              "    }\n",
              "\n",
              "    .colab-df-convert:hover {\n",
              "      background-color: #E2EBFA;\n",
              "      box-shadow: 0px 1px 2px rgba(60, 64, 67, 0.3), 0px 1px 3px 1px rgba(60, 64, 67, 0.15);\n",
              "      fill: #174EA6;\n",
              "    }\n",
              "\n",
              "    [theme=dark] .colab-df-convert {\n",
              "      background-color: #3B4455;\n",
              "      fill: #D2E3FC;\n",
              "    }\n",
              "\n",
              "    [theme=dark] .colab-df-convert:hover {\n",
              "      background-color: #434B5C;\n",
              "      box-shadow: 0px 1px 3px 1px rgba(0, 0, 0, 0.15);\n",
              "      filter: drop-shadow(0px 1px 2px rgba(0, 0, 0, 0.3));\n",
              "      fill: #FFFFFF;\n",
              "    }\n",
              "  </style>\n",
              "\n",
              "      <script>\n",
              "        const buttonEl =\n",
              "          document.querySelector('#df-038130db-e74b-4686-ab8f-f39ec6ccfee0 button.colab-df-convert');\n",
              "        buttonEl.style.display =\n",
              "          google.colab.kernel.accessAllowed ? 'block' : 'none';\n",
              "\n",
              "        async function convertToInteractive(key) {\n",
              "          const element = document.querySelector('#df-038130db-e74b-4686-ab8f-f39ec6ccfee0');\n",
              "          const dataTable =\n",
              "            await google.colab.kernel.invokeFunction('convertToInteractive',\n",
              "                                                     [key], {});\n",
              "          if (!dataTable) return;\n",
              "\n",
              "          const docLinkHtml = 'Like what you see? Visit the ' +\n",
              "            '<a target=\"_blank\" href=https://colab.research.google.com/notebooks/data_table.ipynb>data table notebook</a>'\n",
              "            + ' to learn more about interactive tables.';\n",
              "          element.innerHTML = '';\n",
              "          dataTable['output_type'] = 'display_data';\n",
              "          await google.colab.output.renderOutput(dataTable, element);\n",
              "          const docLink = document.createElement('div');\n",
              "          docLink.innerHTML = docLinkHtml;\n",
              "          element.appendChild(docLink);\n",
              "        }\n",
              "      </script>\n",
              "    </div>\n",
              "  </div>\n",
              "  "
            ]
          },
          "metadata": {},
          "execution_count": 2
        }
      ],
      "source": [
        "df.describe()"
      ]
    },
    {
      "cell_type": "code",
      "execution_count": 3,
      "metadata": {
        "id": "g55JSBOQ7wIV",
        "outputId": "3f49f878-9731-4db6-d0dd-d6a66bff18ec",
        "colab": {
          "base_uri": "https://localhost:8080/"
        }
      },
      "outputs": [
        {
          "output_type": "stream",
          "name": "stdout",
          "text": [
            "<class 'pandas.core.frame.DataFrame'>\n",
            "RangeIndex: 20 entries, 0 to 19\n",
            "Data columns (total 3 columns):\n",
            " #   Column       Non-Null Count  Dtype \n",
            "---  ------       --------------  ----- \n",
            " 0   company      20 non-null     object\n",
            " 1   address      20 non-null     object\n",
            " 2   description  20 non-null     object\n",
            "dtypes: object(3)\n",
            "memory usage: 608.0+ bytes\n"
          ]
        }
      ],
      "source": [
        "df.info()"
      ]
    },
    {
      "cell_type": "markdown",
      "metadata": {
        "id": "cs29eTUk7wIW"
      },
      "source": [
        "## **2. Deskripsi Kompetensi (Sebelum Preprocessing)**"
      ]
    },
    {
      "cell_type": "code",
      "execution_count": 6,
      "metadata": {
        "id": "bsNludRx7wIW"
      },
      "outputs": [],
      "source": [
        "def print_description(index):\n",
        "    example = df[df.index == index][['description', 'company', 'address']].values[0]\n",
        "    if len(example) > 0:\n",
        "        print(example[0])\n",
        "        print('Nama Perusahaan\\t:', example[1])\n",
        "        print('Alamat\\t \\t:', example[2])"
      ]
    },
    {
      "cell_type": "code",
      "execution_count": 7,
      "metadata": {
        "id": "2MRny0xw7wIY",
        "outputId": "dde4e034-55e7-4f7c-d972-b994d4e6b879",
        "colab": {
          "base_uri": "https://localhost:8080/"
        }
      },
      "outputs": [
        {
          "output_type": "stream",
          "name": "stdout",
          "text": [
            "Disciplined BIM Modeling Structure BIM Modeling Disciplined Architecture Workflow Building and Infrastructure Modeling Presentation and Visualization Project Workflow analysis and team collaboration on BIM Modeling Projects Structure Analysis BIM Modeling Mechanical Disciplines BIM Modeling Electrical Disciplines BIM Modeling Generative Components Project Digital Collaboration AEC\n",
            "Nama Perusahaan\t: PT Neosia Pratama Indonusa\n",
            "Alamat\t \t: Sona Topas Tower, lt. 5A/526. Jl. Jendral Sudirman, KAV 26. Karet Kuningan, Setiabudi. Jakarta Selatan. DKI Jakarta\n"
          ]
        }
      ],
      "source": [
        "print_description(1)"
      ]
    },
    {
      "cell_type": "code",
      "execution_count": 10,
      "metadata": {
        "id": "H9AfkOhz7wIZ",
        "outputId": "8ca4f0c6-13cd-4b74-a68a-ea02c3cde2cc",
        "colab": {
          "base_uri": "https://localhost:8080/"
        }
      },
      "outputs": [
        {
          "output_type": "stream",
          "name": "stdout",
          "text": [
            "Systems Analysis and Design Communication Skills Team Work Time Management Software Engineering\n",
            "Nama Perusahaan\t: PT. IlmuKomputerCom Braindevs Sistema\n",
            "Alamat\t \t: Menara Bidakara 1  Lantai 2, Jl. Gatot Subroto Kav. 71-73 Pancoran Jakarta Selatan 12870\n"
          ]
        }
      ],
      "source": [
        "print_description(7)"
      ]
    },
    {
      "cell_type": "code",
      "execution_count": 11,
      "metadata": {
        "id": "HHBBgEGL7wIa",
        "outputId": "9a4afe8f-4337-4a79-af71-cda81e8d8c51",
        "colab": {
          "base_uri": "https://localhost:8080/"
        }
      },
      "outputs": [
        {
          "output_type": "stream",
          "name": "stdout",
          "text": [
            "Design Thinking Visual Branding Video tutorial dan hands on production Motion Comic production Desain Media Interaktif\n",
            "Nama Perusahaan\t: PT Sebangku Jaya Abadi\n",
            "Alamat\t \t: Yogyakarta\n"
          ]
        }
      ],
      "source": [
        "print_description(18)"
      ]
    },
    {
      "cell_type": "markdown",
      "metadata": {
        "id": "vHSTuJMV7wIa"
      },
      "source": [
        "## **3. Text Preprocessing**"
      ]
    },
    {
      "cell_type": "code",
      "execution_count": 13,
      "metadata": {
        "id": "LgLMQPQo7wIb"
      },
      "outputs": [],
      "source": [
        "clean_spcl = re.compile('[/(){}\\[\\]\\|@,;]')\n",
        "clean_symbol = re.compile('[^0-9a-z #+_]')\n",
        "stopworda = set(stopwords.words('english'))\n",
        "\n",
        "def clean_text(text):\n",
        "    \"\"\"\n",
        "        text: a string\n",
        "        \n",
        "        return: modified initial string\n",
        "    \"\"\"\n",
        "    text = text.lower() # lowercase text\n",
        "    text = clean_spcl.sub(' ', text)\n",
        "    text = clean_symbol.sub('', text)\n",
        "    text = ' '.join(word for word in text.split() if word not in stopworda) # hapus stopword dari kolom deskripsi\n",
        "    return text\n",
        "    \n",
        "df['desc_clean'] = df['description'].apply(clean_text)"
      ]
    },
    {
      "cell_type": "code",
      "execution_count": 14,
      "metadata": {
        "id": "I8SvEUjL7wIb",
        "outputId": "506a7821-8512-4342-897d-c303951168e9",
        "colab": {
          "base_uri": "https://localhost:8080/",
          "height": 337
        }
      },
      "outputs": [
        {
          "output_type": "execute_result",
          "data": {
            "text/plain": [
              "                                      company  \\\n",
              "0               Alfaruq Marsalsani Supriyatno   \n",
              "1                  PT Neosia Pratama Indonusa   \n",
              "2                  PT Neosia Pratama Indonusa   \n",
              "3                   PT Mitra Semeru Indonesia   \n",
              "4  Perkumpulan Sosial Ekonomi Akselerator Lab   \n",
              "\n",
              "                                             address  \\\n",
              "0             Ngaliyan, Semarang, Jawa Tengah, 50187   \n",
              "1  Sona Topas Tower, lt. 5A/526. Jl. Jendral Sudi...   \n",
              "2  Sona Topas Tower, lt. 5A/526. Jl. Jendral Sudi...   \n",
              "3  Jl. Mampang Prapatan Raya no 84A, Tegal Parang...   \n",
              "4  Kawasan Ekonomi Khusus Singhasari, Raya Klampo...   \n",
              "\n",
              "                                         description  \\\n",
              "0  Programming Algorithm, Programming Language, D...   \n",
              "1  Disciplined BIM Modeling Structure BIM Modelin...   \n",
              "2  Disciplined BIM Modeling Structure BIM Modelin...   \n",
              "3  03.Branding on Logo, Tagline, Brand Value & Br...   \n",
              "4  AWS Cloud Computing Concept of Digital Transfo...   \n",
              "\n",
              "                                          desc_clean  \n",
              "0  programming algorithm programming language dig...  \n",
              "1  disciplined bim modeling structure bim modelin...  \n",
              "2  disciplined bim modeling structure bim modelin...  \n",
              "3  03branding logo tagline brand value brand stor...  \n",
              "4  aws cloud computing concept digital transforma...  "
            ],
            "text/html": [
              "\n",
              "  <div id=\"df-befc7a20-dba1-4645-bb45-1eab24ce566e\">\n",
              "    <div class=\"colab-df-container\">\n",
              "      <div>\n",
              "<style scoped>\n",
              "    .dataframe tbody tr th:only-of-type {\n",
              "        vertical-align: middle;\n",
              "    }\n",
              "\n",
              "    .dataframe tbody tr th {\n",
              "        vertical-align: top;\n",
              "    }\n",
              "\n",
              "    .dataframe thead th {\n",
              "        text-align: right;\n",
              "    }\n",
              "</style>\n",
              "<table border=\"1\" class=\"dataframe\">\n",
              "  <thead>\n",
              "    <tr style=\"text-align: right;\">\n",
              "      <th></th>\n",
              "      <th>company</th>\n",
              "      <th>address</th>\n",
              "      <th>description</th>\n",
              "      <th>desc_clean</th>\n",
              "    </tr>\n",
              "  </thead>\n",
              "  <tbody>\n",
              "    <tr>\n",
              "      <th>0</th>\n",
              "      <td>Alfaruq Marsalsani Supriyatno</td>\n",
              "      <td>Ngaliyan, Semarang, Jawa Tengah, 50187</td>\n",
              "      <td>Programming Algorithm, Programming Language, D...</td>\n",
              "      <td>programming algorithm programming language dig...</td>\n",
              "    </tr>\n",
              "    <tr>\n",
              "      <th>1</th>\n",
              "      <td>PT Neosia Pratama Indonusa</td>\n",
              "      <td>Sona Topas Tower, lt. 5A/526. Jl. Jendral Sudi...</td>\n",
              "      <td>Disciplined BIM Modeling Structure BIM Modelin...</td>\n",
              "      <td>disciplined bim modeling structure bim modelin...</td>\n",
              "    </tr>\n",
              "    <tr>\n",
              "      <th>2</th>\n",
              "      <td>PT Neosia Pratama Indonusa</td>\n",
              "      <td>Sona Topas Tower, lt. 5A/526. Jl. Jendral Sudi...</td>\n",
              "      <td>Disciplined BIM Modeling Structure BIM Modelin...</td>\n",
              "      <td>disciplined bim modeling structure bim modelin...</td>\n",
              "    </tr>\n",
              "    <tr>\n",
              "      <th>3</th>\n",
              "      <td>PT Mitra Semeru Indonesia</td>\n",
              "      <td>Jl. Mampang Prapatan Raya no 84A, Tegal Parang...</td>\n",
              "      <td>03.Branding on Logo, Tagline, Brand Value &amp; Br...</td>\n",
              "      <td>03branding logo tagline brand value brand stor...</td>\n",
              "    </tr>\n",
              "    <tr>\n",
              "      <th>4</th>\n",
              "      <td>Perkumpulan Sosial Ekonomi Akselerator Lab</td>\n",
              "      <td>Kawasan Ekonomi Khusus Singhasari, Raya Klampo...</td>\n",
              "      <td>AWS Cloud Computing Concept of Digital Transfo...</td>\n",
              "      <td>aws cloud computing concept digital transforma...</td>\n",
              "    </tr>\n",
              "  </tbody>\n",
              "</table>\n",
              "</div>\n",
              "      <button class=\"colab-df-convert\" onclick=\"convertToInteractive('df-befc7a20-dba1-4645-bb45-1eab24ce566e')\"\n",
              "              title=\"Convert this dataframe to an interactive table.\"\n",
              "              style=\"display:none;\">\n",
              "        \n",
              "  <svg xmlns=\"http://www.w3.org/2000/svg\" height=\"24px\"viewBox=\"0 0 24 24\"\n",
              "       width=\"24px\">\n",
              "    <path d=\"M0 0h24v24H0V0z\" fill=\"none\"/>\n",
              "    <path d=\"M18.56 5.44l.94 2.06.94-2.06 2.06-.94-2.06-.94-.94-2.06-.94 2.06-2.06.94zm-11 1L8.5 8.5l.94-2.06 2.06-.94-2.06-.94L8.5 2.5l-.94 2.06-2.06.94zm10 10l.94 2.06.94-2.06 2.06-.94-2.06-.94-.94-2.06-.94 2.06-2.06.94z\"/><path d=\"M17.41 7.96l-1.37-1.37c-.4-.4-.92-.59-1.43-.59-.52 0-1.04.2-1.43.59L10.3 9.45l-7.72 7.72c-.78.78-.78 2.05 0 2.83L4 21.41c.39.39.9.59 1.41.59.51 0 1.02-.2 1.41-.59l7.78-7.78 2.81-2.81c.8-.78.8-2.07 0-2.86zM5.41 20L4 18.59l7.72-7.72 1.47 1.35L5.41 20z\"/>\n",
              "  </svg>\n",
              "      </button>\n",
              "      \n",
              "  <style>\n",
              "    .colab-df-container {\n",
              "      display:flex;\n",
              "      flex-wrap:wrap;\n",
              "      gap: 12px;\n",
              "    }\n",
              "\n",
              "    .colab-df-convert {\n",
              "      background-color: #E8F0FE;\n",
              "      border: none;\n",
              "      border-radius: 50%;\n",
              "      cursor: pointer;\n",
              "      display: none;\n",
              "      fill: #1967D2;\n",
              "      height: 32px;\n",
              "      padding: 0 0 0 0;\n",
              "      width: 32px;\n",
              "    }\n",
              "\n",
              "    .colab-df-convert:hover {\n",
              "      background-color: #E2EBFA;\n",
              "      box-shadow: 0px 1px 2px rgba(60, 64, 67, 0.3), 0px 1px 3px 1px rgba(60, 64, 67, 0.15);\n",
              "      fill: #174EA6;\n",
              "    }\n",
              "\n",
              "    [theme=dark] .colab-df-convert {\n",
              "      background-color: #3B4455;\n",
              "      fill: #D2E3FC;\n",
              "    }\n",
              "\n",
              "    [theme=dark] .colab-df-convert:hover {\n",
              "      background-color: #434B5C;\n",
              "      box-shadow: 0px 1px 3px 1px rgba(0, 0, 0, 0.15);\n",
              "      filter: drop-shadow(0px 1px 2px rgba(0, 0, 0, 0.3));\n",
              "      fill: #FFFFFF;\n",
              "    }\n",
              "  </style>\n",
              "\n",
              "      <script>\n",
              "        const buttonEl =\n",
              "          document.querySelector('#df-befc7a20-dba1-4645-bb45-1eab24ce566e button.colab-df-convert');\n",
              "        buttonEl.style.display =\n",
              "          google.colab.kernel.accessAllowed ? 'block' : 'none';\n",
              "\n",
              "        async function convertToInteractive(key) {\n",
              "          const element = document.querySelector('#df-befc7a20-dba1-4645-bb45-1eab24ce566e');\n",
              "          const dataTable =\n",
              "            await google.colab.kernel.invokeFunction('convertToInteractive',\n",
              "                                                     [key], {});\n",
              "          if (!dataTable) return;\n",
              "\n",
              "          const docLinkHtml = 'Like what you see? Visit the ' +\n",
              "            '<a target=\"_blank\" href=https://colab.research.google.com/notebooks/data_table.ipynb>data table notebook</a>'\n",
              "            + ' to learn more about interactive tables.';\n",
              "          element.innerHTML = '';\n",
              "          dataTable['output_type'] = 'display_data';\n",
              "          await google.colab.output.renderOutput(dataTable, element);\n",
              "          const docLink = document.createElement('div');\n",
              "          docLink.innerHTML = docLinkHtml;\n",
              "          element.appendChild(docLink);\n",
              "        }\n",
              "      </script>\n",
              "    </div>\n",
              "  </div>\n",
              "  "
            ]
          },
          "metadata": {},
          "execution_count": 14
        }
      ],
      "source": [
        "df.head()"
      ]
    },
    {
      "cell_type": "markdown",
      "metadata": {
        "id": "7gMH1zLB7wIc"
      },
      "source": [
        "## **4. Deskripsi Kompetensi (Setelah Preprocessing)**"
      ]
    },
    {
      "cell_type": "code",
      "execution_count": 17,
      "metadata": {
        "id": "32EMssH17wIc"
      },
      "outputs": [],
      "source": [
        "# Deskripsi kedua (Setelah preprocessing)\n",
        "def print_description_clean(index):\n",
        "    example = df[df.index == index][['desc_clean', 'company', 'address']].values[0]\n",
        "    if len(example) > 0:\n",
        "        print(example[0])\n",
        "        print('Nama:', example[1])\n",
        "        print('Alamat:', example[2])"
      ]
    },
    {
      "cell_type": "code",
      "execution_count": 18,
      "metadata": {
        "id": "uBa9vp7t7wId",
        "outputId": "a601056c-972f-4a36-b9ec-651a57dabcb2",
        "colab": {
          "base_uri": "https://localhost:8080/"
        }
      },
      "outputs": [
        {
          "output_type": "stream",
          "name": "stdout",
          "text": [
            "disciplined bim modeling structure bim modeling disciplined architecture workflow building infrastructure modeling presentation visualization project workflow analysis team collaboration bim modeling projects structure analysis bim modeling mechanical disciplines bim modeling electrical disciplines bim modeling generative components project digital collaboration aec\n",
            "Nama: PT Neosia Pratama Indonusa\n",
            "Alamat: Sona Topas Tower, lt. 5A/526. Jl. Jendral Sudirman, KAV 26. Karet Kuningan, Setiabudi. Jakarta Selatan. DKI Jakarta\n"
          ]
        }
      ],
      "source": [
        "print_description_clean(1)"
      ]
    },
    {
      "cell_type": "code",
      "execution_count": 19,
      "metadata": {
        "id": "nmFkWdcv7wId",
        "outputId": "a04f1f91-1524-4fe5-8f28-40696cdbf7fc",
        "colab": {
          "base_uri": "https://localhost:8080/"
        }
      },
      "outputs": [
        {
          "output_type": "stream",
          "name": "stdout",
          "text": [
            "systems analysis design communication skills team work time management software engineering\n",
            "Nama: PT. IlmuKomputerCom Braindevs Sistema\n",
            "Alamat: Menara Bidakara 1  Lantai 2, Jl. Gatot Subroto Kav. 71-73 Pancoran Jakarta Selatan 12870\n"
          ]
        }
      ],
      "source": [
        "print_description_clean(7)"
      ]
    },
    {
      "cell_type": "code",
      "execution_count": 20,
      "metadata": {
        "id": "GsUedeX87wIe",
        "outputId": "e265743e-8541-443f-e21c-94e921db6a0e",
        "colab": {
          "base_uri": "https://localhost:8080/"
        }
      },
      "outputs": [
        {
          "output_type": "stream",
          "name": "stdout",
          "text": [
            "Design Thinking Visual Branding Video tutorial dan hands on production Motion Comic production Desain Media Interaktif\n",
            "Nama Perusahaan\t: PT Sebangku Jaya Abadi\n",
            "Alamat\t \t: Yogyakarta\n"
          ]
        }
      ],
      "source": [
        "print_description(18)"
      ]
    },
    {
      "cell_type": "markdown",
      "metadata": {
        "id": "37mLDHOv7wIe"
      },
      "source": [
        "## **5. TF-IDF & Cosine Similarity**"
      ]
    },
    {
      "cell_type": "code",
      "execution_count": 21,
      "metadata": {
        "scrolled": false,
        "id": "BUDsEsaT7wIe",
        "outputId": "5a8c3b75-5c44-4983-9f58-2e1ad8778204",
        "colab": {
          "base_uri": "https://localhost:8080/"
        }
      },
      "outputs": [
        {
          "output_type": "execute_result",
          "data": {
            "text/plain": [
              "array([[1.        , 0.00985299, 0.00985299, 0.00152253, 0.05583686,\n",
              "        0.01881026, 0.02359147, 0.03333778, 0.03333778, 0.10319529,\n",
              "        0.        , 0.        , 0.08101491, 0.02142874, 0.01915351,\n",
              "        0.09567853, 0.        , 0.0071368 , 0.00331359, 0.01355846],\n",
              "       [0.00985299, 1.        , 1.        , 0.        , 0.00751428,\n",
              "        0.        , 0.00354891, 0.01832409, 0.01832409, 0.00986682,\n",
              "        0.00805488, 0.        , 0.01244081, 0.        , 0.02041834,\n",
              "        0.00921177, 0.        , 0.02476587, 0.        , 0.        ],\n",
              "       [0.00985299, 1.        , 1.        , 0.        , 0.00751428,\n",
              "        0.        , 0.00354891, 0.01832409, 0.01832409, 0.00986682,\n",
              "        0.00805488, 0.        , 0.01244081, 0.        , 0.02041834,\n",
              "        0.00921177, 0.        , 0.02476587, 0.        , 0.        ],\n",
              "       [0.00152253, 0.        , 0.        , 1.        , 0.0102339 ,\n",
              "        0.01625925, 0.01226297, 0.00424957, 0.00424957, 0.00761102,\n",
              "        0.        , 0.05404043, 0.00598801, 0.02044384, 0.        ,\n",
              "        0.00305944, 0.04447032, 0.        , 0.02287854, 0.        ],\n",
              "       [0.05583686, 0.00751428, 0.00751428, 0.0102339 , 1.        ,\n",
              "        0.00483575, 0.0543714 , 0.00722956, 0.00722956, 0.01239393,\n",
              "        0.        , 0.        , 0.01092942, 0.01272971, 0.        ,\n",
              "        0.06451675, 0.        , 0.01029977, 0.        , 0.        ],\n",
              "       [0.01881026, 0.        , 0.        , 0.01625925, 0.00483575,\n",
              "        1.        , 0.        , 0.00935227, 0.00935227, 0.00585654,\n",
              "        0.01893554, 0.        , 0.01413847, 0.02022452, 0.        ,\n",
              "        0.01866112, 0.        , 0.01332394, 0.        , 0.        ],\n",
              "       [0.02359147, 0.00354891, 0.00354891, 0.01226297, 0.0543714 ,\n",
              "        0.        , 1.        , 0.03111325, 0.03111325, 0.        ,\n",
              "        0.01617084, 0.        , 0.03883466, 0.01032684, 0.01068918,\n",
              "        0.03019436, 0.02357507, 0.00723424, 0.06241722, 0.03506501],\n",
              "       [0.03333778, 0.01832409, 0.01832409, 0.00424957, 0.00722956,\n",
              "        0.00935227, 0.03111325, 1.        , 0.44777163, 0.08554886,\n",
              "        0.0193426 , 0.02243846, 0.01790442, 0.01057188, 0.02921477,\n",
              "        0.09990221, 0.        , 0.09246207, 0.00924862, 0.01453034],\n",
              "       [0.03333778, 0.01832409, 0.01832409, 0.00424957, 0.00722956,\n",
              "        0.00935227, 0.03111325, 0.44777163, 1.        , 0.08554886,\n",
              "        0.0193426 , 0.02243846, 0.01790442, 0.01057188, 0.02921477,\n",
              "        0.09990221, 0.        , 0.09246207, 0.00924862, 0.01453034],\n",
              "       [0.10319529, 0.00986682, 0.00986682, 0.00761102, 0.01239393,\n",
              "        0.00585654, 0.        , 0.08554886, 0.08554886, 1.        ,\n",
              "        0.        , 0.        , 0.00555378, 0.        , 0.        ,\n",
              "        0.01493195, 0.        , 0.06084785, 0.        , 0.04379669],\n",
              "       [0.        , 0.00805488, 0.00805488, 0.        , 0.        ,\n",
              "        0.01893554, 0.01617084, 0.0193426 , 0.0193426 , 0.        ,\n",
              "        1.        , 0.0178644 , 0.01208627, 0.        , 0.        ,\n",
              "        0.        , 0.        , 0.0639161 , 0.02463021, 0.        ],\n",
              "       [0.        , 0.        , 0.        , 0.05404043, 0.        ,\n",
              "        0.        , 0.        , 0.02243846, 0.02243846, 0.        ,\n",
              "        0.0178644 , 1.        , 0.        , 0.        , 0.        ,\n",
              "        0.        , 0.        , 0.        , 0.0198916 , 0.        ],\n",
              "       [0.08101491, 0.01244081, 0.01244081, 0.00598801, 0.01092942,\n",
              "        0.01413847, 0.03883466, 0.01790442, 0.01790442, 0.00555378,\n",
              "        0.01208627, 0.        , 1.        , 0.09089394, 0.01066466,\n",
              "        0.02641285, 0.        , 0.01081391, 0.02654085, 0.        ],\n",
              "       [0.02142874, 0.        , 0.        , 0.02044384, 0.01272971,\n",
              "        0.02022452, 0.01032684, 0.01057188, 0.01057188, 0.        ,\n",
              "        0.        , 0.        , 0.09089394, 1.        , 0.        ,\n",
              "        0.00761114, 0.        , 0.        , 0.00786453, 0.        ],\n",
              "       [0.01915351, 0.02041834, 0.02041834, 0.        , 0.        ,\n",
              "        0.        , 0.01068918, 0.02921477, 0.02921477, 0.        ,\n",
              "        0.        , 0.        , 0.01066466, 0.        , 1.        ,\n",
              "        0.03268747, 0.        , 0.01558996, 0.        , 0.        ],\n",
              "       [0.09567853, 0.00921177, 0.00921177, 0.00305944, 0.06451675,\n",
              "        0.01866112, 0.03019436, 0.09990221, 0.09990221, 0.01493195,\n",
              "        0.        , 0.        , 0.02641285, 0.00761114, 0.03268747,\n",
              "        1.        , 0.        , 0.03596089, 0.00665846, 0.0052305 ],\n",
              "       [0.        , 0.        , 0.        , 0.04447032, 0.        ,\n",
              "        0.        , 0.02357507, 0.        , 0.        , 0.        ,\n",
              "        0.        , 0.        , 0.        , 0.        , 0.        ,\n",
              "        0.        , 1.        , 0.        , 0.0573029 , 0.08004387],\n",
              "       [0.0071368 , 0.02476587, 0.02476587, 0.        , 0.01029977,\n",
              "        0.01332394, 0.00723424, 0.09246207, 0.09246207, 0.06084785,\n",
              "        0.0639161 , 0.        , 0.01081391, 0.        , 0.01558996,\n",
              "        0.03596089, 0.        , 1.        , 0.01101865, 0.        ],\n",
              "       [0.00331359, 0.        , 0.        , 0.02287854, 0.        ,\n",
              "        0.        , 0.06241722, 0.00924862, 0.00924862, 0.        ,\n",
              "        0.02463021, 0.0198916 , 0.02654085, 0.00786453, 0.        ,\n",
              "        0.00665846, 0.0573029 , 0.01101865, 1.        , 0.03864224],\n",
              "       [0.01355846, 0.        , 0.        , 0.        , 0.        ,\n",
              "        0.        , 0.03506501, 0.01453034, 0.01453034, 0.04379669,\n",
              "        0.        , 0.        , 0.        , 0.        , 0.        ,\n",
              "        0.0052305 , 0.08004387, 0.        , 0.03864224, 1.        ]])"
            ]
          },
          "metadata": {},
          "execution_count": 21
        }
      ],
      "source": [
        "df.set_index('company', inplace=True)\n",
        "tf = TfidfVectorizer(analyzer='word', ngram_range=(1, 3), min_df=0, stop_words='english')\n",
        "tfidf_matrix = tf.fit_transform(df['desc_clean'])\n",
        "cos_sim = cosine_similarity(tfidf_matrix, tfidf_matrix)\n",
        "cos_sim"
      ]
    },
    {
      "cell_type": "code",
      "execution_count": 22,
      "metadata": {
        "id": "yR8oETRl7wIf",
        "outputId": "45959c8b-1496-4e29-d313-1264f59a52d1",
        "colab": {
          "base_uri": "https://localhost:8080/"
        }
      },
      "outputs": [
        {
          "output_type": "execute_result",
          "data": {
            "text/plain": [
              "0                  Alfaruq Marsalsani Supriyatno\n",
              "1                     PT Neosia Pratama Indonusa\n",
              "2                     PT Neosia Pratama Indonusa\n",
              "3                      PT Mitra Semeru Indonesia\n",
              "4     Perkumpulan Sosial Ekonomi Akselerator Lab\n",
              "5                      PT Mitra Semeru Indonesia\n",
              "6                  PT STECHOQ ROBOTIKA INDONESIA\n",
              "7          PT. IlmuKomputerCom Braindevs Sistema\n",
              "8          PT. IlmuKomputerCom Braindevs Sistema\n",
              "9          PT. IlmuKomputerCom Braindevs Sistema\n",
              "10                 PT Hashmicro Solusi Indonesia\n",
              "11                 Yayasan Adipurna Inovasi Asia\n",
              "12               PT Nodeflux Teknologi Indonesia\n",
              "13                    PT Widya Inovasi Indonesia\n",
              "14                          PT Pundi Mas Berjaya\n",
              "15                  PT Disty Teknologi Indonesia\n",
              "16                       PT Uni Tokopo Teknologi\n",
              "17                           UPT Solo Technopark\n",
              "18                        PT Sebangku Jaya Abadi\n",
              "19                    PT Widya Inovasi Indonesia\n",
              "Name: company, dtype: object"
            ]
          },
          "metadata": {},
          "execution_count": 22
        }
      ],
      "source": [
        "# Set index utama di kolom 'company'\n",
        "indices = pd.Series(df.index)\n",
        "indices[:50]"
      ]
    },
    {
      "cell_type": "markdown",
      "metadata": {
        "id": "dwWvWnOx7wIg"
      },
      "source": [
        "## **6. Modelling**"
      ]
    },
    {
      "cell_type": "code",
      "execution_count": 55,
      "metadata": {
        "id": "pLhbDqfq7wIg"
      },
      "outputs": [],
      "source": [
        "def recommendations(name, cos_sim = cos_sim):\n",
        "    \n",
        "    recommended_comp = []\n",
        "    \n",
        "    # Mengambil nama kompetensi berdasarkan variabel indicies\n",
        "    idx = indices[indices == name].index[0]\n",
        "\n",
        "    # Membuat series berdasarkan skor kesamaan\n",
        "    score_series = pd.Series(cos_sim[idx]).sort_values(ascending = False)\n",
        "\n",
        "    # mengambil index dan dibuat 10 baris rekomendasi terbaik\n",
        "    top_10_indexes = list(score_series.iloc[1:11].index)\n",
        "\n",
        "    print(\"\\nREKOMENDASI PERUSAHAAN PROGRAM KAMPUS MERDEKA\\n\")\n",
        "    print(\"=\"*60)\n",
        "    \n",
        "    for i in top_10_indexes:\n",
        "        recommended_comp.append(list(df.index)[i])\n",
        "        print()\n",
        "        print('NAMA PERUSAHAAN\\t:', list(df.index)[i])\n",
        "        print('ALAMAT\\t\\t:', list(df['address'])[i])\n",
        "        print()\n",
        "        print(\"=\"*60)"
      ]
    },
    {
      "cell_type": "markdown",
      "metadata": {
        "scrolled": false,
        "id": "K6xiJih_7wIh"
      },
      "source": [
        "## **7. Prediksi**"
      ]
    },
    {
      "cell_type": "code",
      "execution_count": 56,
      "metadata": {
        "id": "cWO4fUU17wIi",
        "outputId": "26868a0a-c5ce-4619-dd4a-654d7e25f4b8",
        "colab": {
          "base_uri": "https://localhost:8080/"
        }
      },
      "outputs": [
        {
          "output_type": "stream",
          "name": "stdout",
          "text": [
            "\n",
            "REKOMENDASI PERUSAHAAN PROGRAM KAMPUS MERDEKA\n",
            "\n",
            "============================================================\n",
            "\n",
            "NAMA PERUSAHAAN\t: PT. IlmuKomputerCom Braindevs Sistema\n",
            "ALAMAT\t\t: Menara Bidakara 1  Lantai 2, Jl. Gatot Subroto Kav. 71-73 Pancoran Jakarta Selatan 12870\n",
            "\n",
            "============================================================\n",
            "\n",
            "NAMA PERUSAHAAN\t: PT Disty Teknologi Indonesia\n",
            "ALAMAT\t\t: Gedung Graha Pena Lantai 5 Jl. A.Yani No. 88 Surabaya\n",
            "\n",
            "============================================================\n",
            "\n",
            "NAMA PERUSAHAAN\t: PT Nodeflux Teknologi Indonesia\n",
            "ALAMAT\t\t: Jakarta Indonesia\n",
            "\n",
            "============================================================\n",
            "\n",
            "NAMA PERUSAHAAN\t: Perkumpulan Sosial Ekonomi Akselerator Lab\n",
            "ALAMAT\t\t: Kawasan Ekonomi Khusus Singhasari, Raya Klampok Blok D2 no 16 Purwoasri, Singosari, Kab. Malang\n",
            "\n",
            "============================================================\n",
            "\n",
            "NAMA PERUSAHAAN\t: PT. IlmuKomputerCom Braindevs Sistema\n",
            "ALAMAT\t\t: Menara Bidakara 1  Lantai 2, Jl. Gatot Subroto Kav. 71-73 Pancoran Jakarta Selatan 12870\n",
            "\n",
            "============================================================\n",
            "\n",
            "NAMA PERUSAHAAN\t: PT. IlmuKomputerCom Braindevs Sistema\n",
            "ALAMAT\t\t: Menara Bidakara 1  Lantai 2, Jl. Gatot Subroto Kav. 71-73 Pancoran Jakarta Selatan 12870\n",
            "\n",
            "============================================================\n",
            "\n",
            "NAMA PERUSAHAAN\t: PT STECHOQ ROBOTIKA INDONESIA\n",
            "ALAMAT\t\t: Jalan Belimbing A-17 Perum Sidoarum Blok II, Godean, Sleman, Yogyakarta\n",
            "\n",
            "============================================================\n",
            "\n",
            "NAMA PERUSAHAAN\t: PT Widya Inovasi Indonesia\n",
            "ALAMAT\t\t: Jl. Palagan Tentara Pelajar KM 7.5 No.31A, Mudal, Sariharjo, Ngaglik, Sleman Regency, Special Region of Yogyakarta 55581\n",
            "\n",
            "============================================================\n",
            "\n",
            "NAMA PERUSAHAAN\t: PT Pundi Mas Berjaya\n",
            "ALAMAT\t\t: Jl. Kw. Industri Tunas 2 No.7D, Belian, Kec. Batam Kota, Kota Batam, Kepulauan Riau 29444\n",
            "\n",
            "============================================================\n",
            "\n",
            "NAMA PERUSAHAAN\t: PT Mitra Semeru Indonesia\n",
            "ALAMAT\t\t: Jl. Mampang Prapatan Raya no 84A, Tegal Parang, Mampang Prapatan, Jakarta Selatan    \n",
            "\n",
            "============================================================\n"
          ]
        }
      ],
      "source": [
        "recommendations('Alfaruq Marsalsani Supriyatno')"
      ]
    },
    {
      "cell_type": "markdown",
      "metadata": {
        "id": "jI14WpTC7wIj"
      },
      "source": [
        "# Selesai..."
      ]
    }
  ],
  "metadata": {
    "kernelspec": {
      "display_name": "Python 3",
      "language": "python",
      "name": "python3"
    },
    "language_info": {
      "codemirror_mode": {
        "name": "ipython",
        "version": 3
      },
      "file_extension": ".py",
      "mimetype": "text/x-python",
      "name": "python",
      "nbconvert_exporter": "python",
      "pygments_lexer": "ipython3",
      "version": "3.7.3"
    },
    "colab": {
      "provenance": []
    }
  },
  "nbformat": 4,
  "nbformat_minor": 0
}